{
 "cells": [
  {
   "cell_type": "code",
   "execution_count": 14,
   "metadata": {},
   "outputs": [],
   "source": [
    "from read_input import read_input\n",
    "import os\n",
    "from operator import itemgetter\n",
    "from itertools import groupby"
   ]
  },
  {
   "cell_type": "code",
   "execution_count": 15,
   "metadata": {},
   "outputs": [],
   "source": [
    "def main_process(city_plan):\n",
    "    \n",
    "    # Create dictionary to store time assigned to each street\n",
    "    time_by_street = []\n",
    "    prior_intersections = [0] * len(city_plan['intersections'])\n",
    "    prior_streets = {}\n",
    "    for street in city_plan['streets'].keys():\n",
    "        prior_streets[street] = 0\n",
    "        \n",
    "    for streets_to_drive in city_plan['cars']:\n",
    "        for street in streets_to_drive:\n",
    "            prior_streets[street] += 1\n",
    "        \n",
    "    for intersection in city_plan['intersections']: # dict\n",
    "        \n",
    "        # Sort the streets by num of cars\n",
    "        intersection['in_streets'].sort(key=lambda x:prior_streets[x], reverse=True)\n",
    "        \n",
    "        ncars = sum(prior_streets[in_street] for in_street in intersection['in_streets'])\n",
    "        \n",
    "        proportional = ncars > city_plan['simulation_duration']\n",
    "                \n",
    "        for in_street in intersection['in_streets']: # string\n",
    "            if ncars > 0:\n",
    "                time = round(city_plan['simulation_duration']*(prior_streets[in_street]/ncars))\n",
    "                if time <= 0:\n",
    "                    time = 1\n",
    "                time_by_street.append((intersection['id'], in_street, time))\n",
    "            else:\n",
    "                \n",
    "                time_by_street.append((intersection['id'], in_street, prior_streets[in_street]))\n",
    "        \n",
    "    \n",
    "    return time_by_street"
   ]
  },
  {
   "cell_type": "code",
   "execution_count": 16,
   "metadata": {},
   "outputs": [],
   "source": [
    "def print_output(alg_list, filename):\n",
    "    alg_list_clean = [i for i in alg_list if i[2]!=0]\n",
    "    result = [(k, list(g)) for k, g in groupby(alg_list_clean, itemgetter(0))]\n",
    "\n",
    "    with open(filename, \"w\") as f:\n",
    "        f.write(str(len(result)))\n",
    "        f.write(\"\\n\")\n",
    "        for intersection in result:\n",
    "            f.writelines([str(intersection[0]),\"\\n\", str(len(intersection[1])), \"\\n\"])\n",
    "            for street in intersection[1]:\n",
    "                f.write(f\"{street[1]} {street[2]}\\n\")"
   ]
  },
  {
   "cell_type": "code",
   "execution_count": 17,
   "metadata": {},
   "outputs": [
    {
     "name": "stdout",
     "output_type": "stream",
     "text": [
      "16.67%\n",
      "33.33%\n",
      "50.00%\n",
      "66.67%\n",
      "83.33%\n",
      "100.00%\n"
     ]
    }
   ],
   "source": [
    "progress = 0\n",
    "for letter in ['a', 'b', 'c', 'd', 'e', 'f']:\n",
    "    city_plan = read_input(os.path.join('input', letter+'.txt'))\n",
    "    result = main_process(city_plan)\n",
    "    print_output(result, os.path.join('output', letter+'.txt'))\n",
    "    \n",
    "    progress += 1/6\n",
    "    print(\"{:.2f}%\".format(progress*100))"
   ]
  },
  {
   "cell_type": "code",
   "execution_count": 31,
   "metadata": {},
   "outputs": [
    {
     "name": "stdout",
     "output_type": "stream",
     "text": [
      "The simulation lasts 8071 seconds, there are 8000 intersections, 95928 streets, and 1000 cars; and a car scores 1000 points for reaching the destination on time.\n"
     ]
    }
   ],
   "source": [
    "a = read_input(os.path.join('input', 'd.txt'),True)"
   ]
  },
  {
   "cell_type": "markdown",
   "metadata": {},
   "source": [
    "# DUMMY CODE"
   ]
  },
  {
   "cell_type": "code",
   "execution_count": 37,
   "metadata": {},
   "outputs": [],
   "source": [
    "def main_process_d(city_plan, sec):\n",
    "    \n",
    "    # Create dictionary to store time assigned to each street\n",
    "    time_by_street = []\n",
    "    prior_streets = {}\n",
    "    for street in city_plan['streets'].keys():\n",
    "        prior_streets[street] = 0\n",
    "        \n",
    "    for streets_to_drive in city_plan['cars']:\n",
    "        for street in streets_to_drive:\n",
    "            prior_streets[street] += 1\n",
    "        \n",
    "    for intersection in city_plan['intersections']: # dict\n",
    "        \n",
    "        # Sort the streets by num of cars\n",
    "        intersection['in_streets'].sort(key=lambda x:prior_streets[x], reverse=True)\n",
    "        \n",
    "        ncars = sum(prior_streets[in_street] for in_street in intersection['in_streets'])\n",
    "        \n",
    "        proportional = ncars > city_plan['simulation_duration']\n",
    "        \n",
    "        for in_street in intersection['in_streets']: # string\n",
    "            time_by_street.append((intersection['id'], in_street, sec))\n",
    "        \n",
    "    \n",
    "    return time_by_street"
   ]
  },
  {
   "cell_type": "code",
   "execution_count": 39,
   "metadata": {},
   "outputs": [
    {
     "name": "stdout",
     "output_type": "stream",
     "text": [
      "16.67%\n",
      "33.33%\n",
      "50.00%\n",
      "66.67%\n",
      "83.33%\n",
      "100.00%\n"
     ]
    }
   ],
   "source": [
    "progress = 0\n",
    "for letter in ['a', 'b', 'c', 'd', 'e', 'f']:\n",
    "    city_plan = read_input(os.path.join('input', letter+'.txt'))\n",
    "    result = main_process_d(city_plan, 3)\n",
    "    print_output(result, os.path.join('results', letter+'.txt'))\n",
    "    \n",
    "    progress += 1/6\n",
    "    print(\"{:.2f}%\".format(progress*100))"
   ]
  },
  {
   "cell_type": "code",
   "execution_count": null,
   "metadata": {},
   "outputs": [],
   "source": []
  }
 ],
 "metadata": {
  "kernelspec": {
   "display_name": "Python 3",
   "language": "python",
   "name": "python3"
  },
  "language_info": {
   "codemirror_mode": {
    "name": "ipython",
    "version": 3
   },
   "file_extension": ".py",
   "mimetype": "text/x-python",
   "name": "python",
   "nbconvert_exporter": "python",
   "pygments_lexer": "ipython3",
   "version": "3.8.5"
  }
 },
 "nbformat": 4,
 "nbformat_minor": 4
}
